{
  "nbformat": 4,
  "nbformat_minor": 0,
  "metadata": {
    "colab": {
      "provenance": [],
      "authorship_tag": "ABX9TyMjLe6zPTr/OqznDE3Tm/dZ",
      "include_colab_link": true
    },
    "kernelspec": {
      "name": "python3",
      "display_name": "Python 3"
    },
    "language_info": {
      "name": "python"
    }
  },
  "cells": [
    {
      "cell_type": "markdown",
      "metadata": {
        "id": "view-in-github",
        "colab_type": "text"
      },
      "source": [
        "<a href=\"https://colab.research.google.com/github/BandsThoBaby/13may23_len_function/blob/main/MoonDevPythonForAlgo.ipynb\" target=\"_parent\"><img src=\"https://colab.research.google.com/assets/colab-badge.svg\" alt=\"Open In Colab\"/></a>"
      ]
    },
    {
      "cell_type": "code",
      "execution_count": 3,
      "metadata": {
        "colab": {
          "base_uri": "https://localhost:8080/"
        },
        "id": "RzdUQ2gJQICP",
        "outputId": "1ae4579b-e2c9-43a8-a8bb-9fc5f5afaed9"
      },
      "outputs": [
        {
          "output_type": "stream",
          "name": "stdout",
          "text": [
            "hello this is my first piece of code\n",
            "all my cables\n"
          ]
        }
      ],
      "source": [
        "# LEARN TO CODE IN PYTHON 2024\n",
        "# STEP BY STEP\n",
        "# Mark out code by putting a # in front\n",
        "\n",
        "# Alternatively, you can use single quotes:\n",
        "\n",
        "'''\n",
        "This is another multi-line comment\n",
        "using single quotes.\n",
        "'''\n",
        "\n",
        "# use stackoverflow when stuck\n",
        "\n",
        "print('hello this is my first piece of code')\n",
        "\n",
        "# variable is a storage box\n",
        "# String = Sentence\n",
        "\n",
        "box = 'all my cables'\n",
        "print(box)\n",
        "\n",
        "\n"
      ]
    },
    {
      "cell_type": "code",
      "source": [
        "# # BOOLEANS = True or False\n",
        "# # types of things that re true or false\n",
        "\n",
        "# answer = 3 > 4\n",
        "# print(answer)\n",
        "\n",
        "# # numbers in python\n",
        "# # 2 types -\n",
        "# # 1. Integer == Whole Number No Decimal\n",
        "# # 2. Float not whole aka decimal eg. 1.2\n",
        "\n",
        "# number = 56.45\n",
        "# print(type(number))\n",
        "\n",
        "# # turn floats to integers\n",
        "# num2 = int(number)\n",
        "# print(num2)\n",
        "\n",
        "# # counting in Python\n",
        "# # starts at 0 (Zero)\n",
        "# # 0, 1, 2, 3, 4, 5\n",
        "\n",
        "# count = 'Bangkok'\n",
        "# print(count[2])\n",
        "\n",
        "# #importing things (Modules - bbasically apps)\n",
        "# import math\n",
        "# # the above imports the math library\n",
        "\n",
        "# # math in Python + - * / **\n",
        "\n",
        "# math_box = 34.45 ** 34\n",
        "# print(math_box)\n",
        "\n",
        "# # 34 ^ 4\n",
        "\n",
        "# '''\n",
        "# # Arithmetic Operators in Python\n",
        "\n",
        "# # Addition\n",
        "# x + y  # Adds x and y\n",
        "\n",
        "# # Subtraction\n",
        "# x - y  # Subtracts y from x\n",
        "\n",
        "# # Multiplication\n",
        "# x * y  # Multiplies x by y\n",
        "\n",
        "# # Division\n",
        "# x / y  # Divides x by y (float result)\n",
        "\n",
        "# # Floor Division\n",
        "# x // y  # Divides x by y (integer result)\n",
        "\n",
        "# # Modulus\n",
        "# x % y  # Remainder of x divided by y\n",
        "\n",
        "# # Exponentiation\n",
        "# x ** y  # Raises x to the power of y\n",
        "\n",
        "# # Unary Plus\n",
        "# +x  # Returns x\n",
        "\n",
        "# # Unary Minus\n",
        "# -x  # Negates x\n",
        "# '''\n",
        "\n",
        "# # sentences = strings\n",
        "# sentence = \"I love my life in Thailand\"\n",
        "# print(sentence)\n",
        "\n",
        "# #slicing sentences\n",
        "# half = sentence [0:10]\n",
        "# print(half)\n",
        "\n",
        "# # Slicing Sentences/Strings in Python\n",
        "\n",
        "# sentence = \"Hello, World!\"\n",
        "\n",
        "# # Basic slicing syntax: sequence[start:stop:step]\n",
        "\n",
        "# # Extract substring from index 0 to 4 (stop is exclusive)\n",
        "# substring = sentence[0:5]  # \"Hello\"\n",
        "\n",
        "# # Slice from index 7 to end\n",
        "# substring = sentence[7:]  # \"World!\"\n",
        "\n",
        "# # Slice using negative indices\n",
        "# substring = sentence[-6:-1]  # \"World\"\n",
        "\n",
        "# # Slice with a step of 2\n",
        "# substring = sentence[0:12:2]  # \"Hlo ol\"\n",
        "\n",
        "# # Reverse the string\n",
        "# reversed_sentence = sentence[::-1]  # \"!dlroW ,olleH\"\n",
        "\n",
        "# # Practical functions\n",
        "# def get_first_word(sentence):\n",
        "#     return sentence.split()[0]  # First word\n",
        "\n",
        "# def get_last_word(sentence):\n",
        "#     return sentence.split()[-1]  # Last word\n",
        "\n",
        "# first_word = get_first_word(sentence)  # \"Hello,\"\n",
        "# last_word = get_last_word(sentence)    # \"World!\"\n",
        "\n",
        "# # variables = boxes to store stuff\n",
        "# # lists = list of things to store\n",
        "\n",
        "# mylist = [number, sentence, 'Pattaya', 420.69]\n",
        "# print(mylist[3])\n",
        "\n",
        "# # # KeyBoard Shortcuts -\n",
        "# # ** SELECT ALL + Command + /  Will Comment out all selected\n",
        "# # # Command + shift + left arrow will SELECT ALL\n",
        "\n",
        "\n",
        "# #dictionary - also to store stuff\n",
        "# # dictionary - key & value\n",
        "\n",
        "my_dictionary = {'Province':'Sakhon Nakhon', 'Population':'1.152', 'fav_food':'Som Tum',\n",
        "                 'location':'Thailand'}\n",
        "print(my_dictionary['location'])\n",
        "\n",
        "\n",
        "\n",
        "\n"
      ],
      "metadata": {
        "colab": {
          "base_uri": "https://localhost:8080/"
        },
        "id": "izhOB_yOufzo",
        "outputId": "66a755ad-c68e-436c-e7f1-88db3c01b256"
      },
      "execution_count": 3,
      "outputs": [
        {
          "output_type": "stream",
          "name": "stdout",
          "text": [
            "False\n",
            "<class 'float'>\n",
            "56\n",
            "n\n",
            "1.8383732511546652e+52\n",
            "I love my life in Thailand\n",
            "I love my \n",
            "420.69\n",
            "Thailand\n"
          ]
        }
      ]
    },
    {
      "cell_type": "code",
      "source": [
        "sentence_1 = 'Swadee Krub'\n",
        "sentence_2 = 'Yo Yo Yo'\n",
        "number_1 = 32 # integer = whole number\n",
        "number_2 = 4.20 # float = decimal place\n",
        "\n",
        "if number_1 > number_2 #FALSE\n",
        "    print(sentence_1)\n",
        "elif number_1 == number_2 # == when checking t/\n",
        "                          # use == , ! >. >=. <=\n",
        "    print(sentence_2)\n",
        "else: # fail safe, do this if all else false\n",
        "\n",
        "# if, elif, else\n",
        "\n",
        "# when checking True/False use double equals ==\n",
        "\n",
        "#OPERATORS - == , !=, >=, <=\n",
        "\n",
        "\n"
      ],
      "metadata": {
        "colab": {
          "base_uri": "https://localhost:8080/"
        },
        "id": "DE041otmuRu5",
        "outputId": "50fa0548-6fbe-496c-9765-f9500cc58d40"
      },
      "execution_count": 4,
      "outputs": [
        {
          "output_type": "stream",
          "name": "stdout",
          "text": [
            "Swadee Krub\n"
          ]
        }
      ]
    },
    {
      "cell_type": "markdown",
      "source": [],
      "metadata": {
        "id": "wGSa_5Rr5oE0"
      }
    },
    {
      "cell_type": "code",
      "source": [
        "# indexing - getting things out of list\n",
        "\n",
        "# counting - going fwd is 0, 1, 2\n",
        "# counting bckwd is -1, -2, -3\n",
        "\n",
        "\n"
      ],
      "metadata": {
        "id": "2FpVAXhFa8iT"
      },
      "execution_count": null,
      "outputs": []
    },
    {
      "cell_type": "code",
      "source": [
        "# while loops loop until false\n",
        "\n",
        "\n",
        "# for loops - loop until a condition is fulfilled\n",
        "listy = [23.45, 45, 'hey there']\n",
        "\n",
        "# when using for loops the first word after for\n",
        "# can be anything\n",
        "for zzzz in listy:\n",
        "  print(zzzz)\n",
        "\n",
        "\n",
        "for x in range(10):\n",
        "  print(x)\n",
        ""
      ],
      "metadata": {
        "colab": {
          "base_uri": "https://localhost:8080/"
        },
        "id": "5WC0b4dVfWiV",
        "outputId": "26557a1a-8051-4d19-c8cb-4ee3d9b4fa5e"
      },
      "execution_count": 6,
      "outputs": [
        {
          "output_type": "stream",
          "name": "stdout",
          "text": [
            "23.45\n",
            "45\n",
            "hey there\n",
            "0\n",
            "1\n",
            "2\n",
            "3\n",
            "4\n",
            "5\n",
            "6\n",
            "7\n",
            "8\n",
            "9\n"
          ]
        }
      ]
    },
    {
      "cell_type": "code",
      "source": [
        "# functions - variables, lists, dictionaries\n",
        "# 20 variable, 4 lists, 10 dictionaries\n",
        "\n",
        "# use def for a function then name of func()\n",
        "def storage_unit():\n",
        "\n",
        "  shoes = 'Jordans'\n",
        "  game = 'Zelda'\n",
        "  age = 27\n",
        "  gpa = 2.80\n",
        "\n",
        "  mylist = [shoes, game, age, 'hey there']\n",
        "\n",
        "  return shoes,mylist\n",
        "# returning allows use in others parts of code\n",
        "\n",
        "mylist = storage_unit()[1]\n",
        "print(mylist[-2])"
      ],
      "metadata": {
        "colab": {
          "base_uri": "https://localhost:8080/"
        },
        "id": "duZ0rkNTgz9-",
        "outputId": "bcc3108a-ba14-4e7a-cea4-c0b171d3d160"
      },
      "execution_count": 10,
      "outputs": [
        {
          "output_type": "stream",
          "name": "stdout",
          "text": [
            "Jordans\n"
          ]
        }
      ]
    },
    {
      "cell_type": "code",
      "source": [
        "# pass in information into a function\n",
        "\n",
        "car = 'toyota'\n",
        "\n",
        "def passing(car=car):\n",
        "\n",
        "  num = 67\n",
        "  print(car)\n",
        "\n",
        "passing('lambo')\n",
        "\n"
      ],
      "metadata": {
        "colab": {
          "base_uri": "https://localhost:8080/"
        },
        "id": "ozkfEuyQpSUM",
        "outputId": "e989c387-e030-4e0e-e089-e39813de7c03"
      },
      "execution_count": 17,
      "outputs": [
        {
          "output_type": "stream",
          "name": "stdout",
          "text": [
            "lambo\n"
          ]
        }
      ]
    },
    {
      "cell_type": "code",
      "source": [
        "# google sheets == excel\n",
        "# package/module/\n",
        "import pandas as pd\n",
        "\n",
        "df = pd.read_csv('/content/BTC-USD.csv')\n",
        "print(df)\n"
      ],
      "metadata": {
        "colab": {
          "base_uri": "https://localhost:8080/"
        },
        "id": "afUDVRIrccPR",
        "outputId": "4c85e8ec-40ba-461f-e4f8-9ef6b04822b4"
      },
      "execution_count": 3,
      "outputs": [
        {
          "output_type": "stream",
          "name": "stdout",
          "text": [
            "            Date          Open          High           Low         Close  \\\n",
            "0     2014-09-17    465.864014    468.174011    452.421997    457.334015   \n",
            "1     2014-09-18    456.859985    456.859985    413.104004    424.440002   \n",
            "2     2014-09-19    424.102997    427.834991    384.532013    394.795990   \n",
            "3     2014-09-20    394.673004    423.295990    389.882996    408.903992   \n",
            "4     2014-09-21    408.084991    412.425995    393.181000    398.821014   \n",
            "...          ...           ...           ...           ...           ...   \n",
            "3610  2024-08-05  58110.296875  58268.828125  49121.238281  53991.457031   \n",
            "3611  2024-08-06  53991.347656  57059.917969  53973.273438  56034.316406   \n",
            "3612  2024-08-07  56040.632813  57726.882813  54620.507813  55027.460938   \n",
            "3613  2024-08-08  55030.027344  62673.765625  54766.726563  61710.136719   \n",
            "3614  2024-08-09  61709.953125  61709.953125  59797.929688  60262.527344   \n",
            "\n",
            "         Adj Close        Volume  \n",
            "0       457.334015      21056800  \n",
            "1       424.440002      34483200  \n",
            "2       394.795990      37919700  \n",
            "3       408.903992      36863600  \n",
            "4       398.821014      26580100  \n",
            "...            ...           ...  \n",
            "3610  53991.457031  108991085584  \n",
            "3611  56034.316406   49300484106  \n",
            "3612  55027.460938   41637562185  \n",
            "3613  61710.136719   45298472567  \n",
            "3614  60262.527344   38417969152  \n",
            "\n",
            "[3615 rows x 7 columns]\n"
          ]
        }
      ]
    },
    {
      "cell_type": "code",
      "source": [
        "# time series data - is just data over the course of time\n",
        "# data that changes everyday\n",
        "first_50 = df.head(50)\n",
        "# print(first_50)\n",
        "last_50 = df.tail(50)\n",
        "# print(last_50)\n",
        "# print(df[0:100])\n",
        "\n",
        "#print (df[0:-20])\n",
        "#print(df[['Date', 'Adj Close']])\n",
        "\n",
        "\n",
        "\n",
        "\n"
      ],
      "metadata": {
        "colab": {
          "base_uri": "https://localhost:8080/"
        },
        "id": "58DwCH8Aib25",
        "outputId": "755419e9-c6a4-4604-c549-acd972d4b280"
      },
      "execution_count": 19,
      "outputs": [
        {
          "output_type": "stream",
          "name": "stdout",
          "text": [
            "            Date     Adj Close\n",
            "0     2014-09-17    457.334015\n",
            "1     2014-09-18    424.440002\n",
            "2     2014-09-19    394.795990\n",
            "3     2014-09-20    408.903992\n",
            "4     2014-09-21    398.821014\n",
            "...          ...           ...\n",
            "3610  2024-08-05  53991.457031\n",
            "3611  2024-08-06  56034.316406\n",
            "3612  2024-08-07  55027.460938\n",
            "3613  2024-08-08  61710.136719\n",
            "3614  2024-08-09  60262.527344\n",
            "\n",
            "[3615 rows x 2 columns]\n"
          ]
        }
      ]
    },
    {
      "cell_type": "code",
      "source": [
        "# How to access a value out of one column\n",
        "df_40k = df.loc[df['Close'] < 40000]\n",
        "print(df_40k)\n",
        "# Gives me the data frame where the close is higher than 40,000\n",
        "# build a new data frame based off a condition\n"
      ],
      "metadata": {
        "colab": {
          "base_uri": "https://localhost:8080/"
        },
        "id": "fHPAdQNgtm-y",
        "outputId": "63cf714d-fe13-4836-eac7-5bef6d51fb9e"
      },
      "execution_count": 23,
      "outputs": [
        {
          "output_type": "stream",
          "name": "stdout",
          "text": [
            "            Date          Open          High           Low         Close  \\\n",
            "0     2014-09-17    465.864014    468.174011    452.421997    457.334015   \n",
            "1     2014-09-18    456.859985    456.859985    413.104004    424.440002   \n",
            "2     2014-09-19    424.102997    427.834991    384.532013    394.795990   \n",
            "3     2014-09-20    394.673004    423.295990    389.882996    408.903992   \n",
            "4     2014-09-21    408.084991    412.425995    393.181000    398.821014   \n",
            "...          ...           ...           ...           ...           ...   \n",
            "3363  2023-12-02  38689.277344  39678.937500  38652.593750  39476.332031   \n",
            "3364  2023-12-03  39472.207031  40135.605469  39298.164063  39978.390625   \n",
            "3414  2024-01-22  41553.652344  41651.207031  39450.117188  39507.367188   \n",
            "3415  2024-01-23  39518.714844  40127.351563  38521.894531  39845.550781   \n",
            "3417  2024-01-25  40075.550781  40254.480469  39545.664063  39933.808594   \n",
            "\n",
            "         Adj Close       Volume  \n",
            "0       457.334015     21056800  \n",
            "1       424.440002     34483200  \n",
            "2       394.795990     37919700  \n",
            "3       408.903992     36863600  \n",
            "4       398.821014     26580100  \n",
            "...            ...          ...  \n",
            "3363  39476.332031  15534035612  \n",
            "3364  39978.390625  15769696322  \n",
            "3414  39507.367188  31338708143  \n",
            "3415  39845.550781  29244553045  \n",
            "3417  39933.808594  18491782013  \n",
            "\n",
            "[3035 rows x 7 columns]\n"
          ]
        }
      ]
    },
    {
      "cell_type": "code",
      "source": [
        "# how to get a specifc value out of a data frame\n",
        "\n",
        "date_of_398 = df.loc[df['Close']==398.821014, 'Date'].values[0]\n",
        "\n",
        "# how to get a specifc value out of a data frame\n",
        "\n",
        "print(date_of_398)"
      ],
      "metadata": {
        "colab": {
          "base_uri": "https://localhost:8080/"
        },
        "id": "MqE-PxukvaJT",
        "outputId": "76a9b085-ec6e-4a39-b781-d9498358a160"
      },
      "execution_count": 27,
      "outputs": [
        {
          "output_type": "stream",
          "name": "stdout",
          "text": [
            "2014-09-21\n"
          ]
        }
      ]
    },
    {
      "cell_type": "code",
      "source": [],
      "metadata": {
        "id": "D8iAnEYDzbby"
      },
      "execution_count": null,
      "outputs": []
    }
  ]
}